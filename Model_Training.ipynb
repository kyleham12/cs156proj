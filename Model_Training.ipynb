{
 "cells": [
  {
   "cell_type": "code",
   "execution_count": 32,
   "id": "50ac34ed",
   "metadata": {},
   "outputs": [],
   "source": [
    "import pandas as pd\n",
    "import nltk"
   ]
  },
  {
   "cell_type": "code",
   "execution_count": 33,
   "id": "8d218487",
   "metadata": {},
   "outputs": [],
   "source": [
    "df = pd.read_csv(\"spotify_millsongdata.csv\")"
   ]
  },
  {
   "cell_type": "code",
   "execution_count": 34,
   "id": "79919672",
   "metadata": {},
   "outputs": [
    {
     "data": {
      "text/html": [
       "<div>\n",
       "<style scoped>\n",
       "    .dataframe tbody tr th:only-of-type {\n",
       "        vertical-align: middle;\n",
       "    }\n",
       "\n",
       "    .dataframe tbody tr th {\n",
       "        vertical-align: top;\n",
       "    }\n",
       "\n",
       "    .dataframe thead th {\n",
       "        text-align: right;\n",
       "    }\n",
       "</style>\n",
       "<table border=\"1\" class=\"dataframe\">\n",
       "  <thead>\n",
       "    <tr style=\"text-align: right;\">\n",
       "      <th></th>\n",
       "      <th>artist</th>\n",
       "      <th>song</th>\n",
       "      <th>link</th>\n",
       "      <th>text</th>\n",
       "    </tr>\n",
       "  </thead>\n",
       "  <tbody>\n",
       "    <tr>\n",
       "      <th>0</th>\n",
       "      <td>ABBA</td>\n",
       "      <td>Ahe's My Kind Of Girl</td>\n",
       "      <td>/a/abba/ahes+my+kind+of+girl_20598417.html</td>\n",
       "      <td>Look at her face, it's a wonderful face  \\r\\nA...</td>\n",
       "    </tr>\n",
       "    <tr>\n",
       "      <th>1</th>\n",
       "      <td>ABBA</td>\n",
       "      <td>Andante, Andante</td>\n",
       "      <td>/a/abba/andante+andante_20002708.html</td>\n",
       "      <td>Take it easy with me, please  \\r\\nTouch me gen...</td>\n",
       "    </tr>\n",
       "    <tr>\n",
       "      <th>2</th>\n",
       "      <td>ABBA</td>\n",
       "      <td>As Good As New</td>\n",
       "      <td>/a/abba/as+good+as+new_20003033.html</td>\n",
       "      <td>I'll never know why I had to go  \\r\\nWhy I had...</td>\n",
       "    </tr>\n",
       "    <tr>\n",
       "      <th>3</th>\n",
       "      <td>ABBA</td>\n",
       "      <td>Bang</td>\n",
       "      <td>/a/abba/bang_20598415.html</td>\n",
       "      <td>Making somebody happy is a question of give an...</td>\n",
       "    </tr>\n",
       "    <tr>\n",
       "      <th>4</th>\n",
       "      <td>ABBA</td>\n",
       "      <td>Bang-A-Boomerang</td>\n",
       "      <td>/a/abba/bang+a+boomerang_20002668.html</td>\n",
       "      <td>Making somebody happy is a question of give an...</td>\n",
       "    </tr>\n",
       "  </tbody>\n",
       "</table>\n",
       "</div>"
      ],
      "text/plain": [
       "  artist                   song                                        link  \\\n",
       "0   ABBA  Ahe's My Kind Of Girl  /a/abba/ahes+my+kind+of+girl_20598417.html   \n",
       "1   ABBA       Andante, Andante       /a/abba/andante+andante_20002708.html   \n",
       "2   ABBA         As Good As New        /a/abba/as+good+as+new_20003033.html   \n",
       "3   ABBA                   Bang                  /a/abba/bang_20598415.html   \n",
       "4   ABBA       Bang-A-Boomerang      /a/abba/bang+a+boomerang_20002668.html   \n",
       "\n",
       "                                                text  \n",
       "0  Look at her face, it's a wonderful face  \\r\\nA...  \n",
       "1  Take it easy with me, please  \\r\\nTouch me gen...  \n",
       "2  I'll never know why I had to go  \\r\\nWhy I had...  \n",
       "3  Making somebody happy is a question of give an...  \n",
       "4  Making somebody happy is a question of give an...  "
      ]
     },
     "execution_count": 34,
     "metadata": {},
     "output_type": "execute_result"
    }
   ],
   "source": [
    "df.head(5)"
   ]
  },
  {
   "cell_type": "code",
   "execution_count": 35,
   "id": "b61c723f",
   "metadata": {},
   "outputs": [
    {
     "data": {
      "text/html": [
       "<div>\n",
       "<style scoped>\n",
       "    .dataframe tbody tr th:only-of-type {\n",
       "        vertical-align: middle;\n",
       "    }\n",
       "\n",
       "    .dataframe tbody tr th {\n",
       "        vertical-align: top;\n",
       "    }\n",
       "\n",
       "    .dataframe thead th {\n",
       "        text-align: right;\n",
       "    }\n",
       "</style>\n",
       "<table border=\"1\" class=\"dataframe\">\n",
       "  <thead>\n",
       "    <tr style=\"text-align: right;\">\n",
       "      <th></th>\n",
       "      <th>artist</th>\n",
       "      <th>song</th>\n",
       "      <th>link</th>\n",
       "      <th>text</th>\n",
       "    </tr>\n",
       "  </thead>\n",
       "  <tbody>\n",
       "    <tr>\n",
       "      <th>57645</th>\n",
       "      <td>Ziggy Marley</td>\n",
       "      <td>Good Old Days</td>\n",
       "      <td>/z/ziggy+marley/good+old+days_10198588.html</td>\n",
       "      <td>Irie days come on play  \\r\\nLet the angels fly...</td>\n",
       "    </tr>\n",
       "    <tr>\n",
       "      <th>57646</th>\n",
       "      <td>Ziggy Marley</td>\n",
       "      <td>Hand To Mouth</td>\n",
       "      <td>/z/ziggy+marley/hand+to+mouth_20531167.html</td>\n",
       "      <td>Power to the workers  \\r\\nMore power  \\r\\nPowe...</td>\n",
       "    </tr>\n",
       "    <tr>\n",
       "      <th>57647</th>\n",
       "      <td>Zwan</td>\n",
       "      <td>Come With Me</td>\n",
       "      <td>/z/zwan/come+with+me_20148981.html</td>\n",
       "      <td>all you need  \\r\\nis something i'll believe  \\...</td>\n",
       "    </tr>\n",
       "    <tr>\n",
       "      <th>57648</th>\n",
       "      <td>Zwan</td>\n",
       "      <td>Desire</td>\n",
       "      <td>/z/zwan/desire_20148986.html</td>\n",
       "      <td>northern star  \\r\\nam i frightened  \\r\\nwhere ...</td>\n",
       "    </tr>\n",
       "    <tr>\n",
       "      <th>57649</th>\n",
       "      <td>Zwan</td>\n",
       "      <td>Heartsong</td>\n",
       "      <td>/z/zwan/heartsong_20148991.html</td>\n",
       "      <td>come in  \\r\\nmake yourself at home  \\r\\ni'm a ...</td>\n",
       "    </tr>\n",
       "  </tbody>\n",
       "</table>\n",
       "</div>"
      ],
      "text/plain": [
       "             artist           song  \\\n",
       "57645  Ziggy Marley  Good Old Days   \n",
       "57646  Ziggy Marley  Hand To Mouth   \n",
       "57647          Zwan   Come With Me   \n",
       "57648          Zwan         Desire   \n",
       "57649          Zwan      Heartsong   \n",
       "\n",
       "                                              link  \\\n",
       "57645  /z/ziggy+marley/good+old+days_10198588.html   \n",
       "57646  /z/ziggy+marley/hand+to+mouth_20531167.html   \n",
       "57647           /z/zwan/come+with+me_20148981.html   \n",
       "57648                 /z/zwan/desire_20148986.html   \n",
       "57649              /z/zwan/heartsong_20148991.html   \n",
       "\n",
       "                                                    text  \n",
       "57645  Irie days come on play  \\r\\nLet the angels fly...  \n",
       "57646  Power to the workers  \\r\\nMore power  \\r\\nPowe...  \n",
       "57647  all you need  \\r\\nis something i'll believe  \\...  \n",
       "57648  northern star  \\r\\nam i frightened  \\r\\nwhere ...  \n",
       "57649  come in  \\r\\nmake yourself at home  \\r\\ni'm a ...  "
      ]
     },
     "execution_count": 35,
     "metadata": {},
     "output_type": "execute_result"
    }
   ],
   "source": [
    "df.tail(5)"
   ]
  },
  {
   "cell_type": "code",
   "execution_count": 36,
   "id": "d7d8fa2a",
   "metadata": {},
   "outputs": [
    {
     "data": {
      "text/plain": [
       "(57650, 4)"
      ]
     },
     "execution_count": 36,
     "metadata": {},
     "output_type": "execute_result"
    }
   ],
   "source": [
    "df.shape"
   ]
  },
  {
   "cell_type": "code",
   "execution_count": 37,
   "id": "a8fdecf9",
   "metadata": {},
   "outputs": [
    {
     "data": {
      "text/plain": [
       "artist    0\n",
       "song      0\n",
       "link      0\n",
       "text      0\n",
       "dtype: int64"
      ]
     },
     "execution_count": 37,
     "metadata": {},
     "output_type": "execute_result"
    }
   ],
   "source": [
    "df.isnull().sum()"
   ]
  },
  {
   "cell_type": "code",
   "execution_count": 38,
   "id": "dde3d24b",
   "metadata": {},
   "outputs": [],
   "source": [
    "df =df.sample(5000).drop('link', axis=1).reset_index(drop=True)"
   ]
  },
  {
   "cell_type": "code",
   "execution_count": 39,
   "id": "cf5ff69f",
   "metadata": {},
   "outputs": [
    {
     "data": {
      "text/html": [
       "<div>\n",
       "<style scoped>\n",
       "    .dataframe tbody tr th:only-of-type {\n",
       "        vertical-align: middle;\n",
       "    }\n",
       "\n",
       "    .dataframe tbody tr th {\n",
       "        vertical-align: top;\n",
       "    }\n",
       "\n",
       "    .dataframe thead th {\n",
       "        text-align: right;\n",
       "    }\n",
       "</style>\n",
       "<table border=\"1\" class=\"dataframe\">\n",
       "  <thead>\n",
       "    <tr style=\"text-align: right;\">\n",
       "      <th></th>\n",
       "      <th>artist</th>\n",
       "      <th>song</th>\n",
       "      <th>text</th>\n",
       "    </tr>\n",
       "  </thead>\n",
       "  <tbody>\n",
       "    <tr>\n",
       "      <th>0</th>\n",
       "      <td>Dean Martin</td>\n",
       "      <td>I Feel Like A Feather In The Breeze</td>\n",
       "      <td>I feel like a feather in the breeze  \\r\\nRidin...</td>\n",
       "    </tr>\n",
       "    <tr>\n",
       "      <th>1</th>\n",
       "      <td>Rod Stewart</td>\n",
       "      <td>Mama You Been On My Mind</td>\n",
       "      <td>Perhaps it's the color of the sun cut flat  \\r...</td>\n",
       "    </tr>\n",
       "    <tr>\n",
       "      <th>2</th>\n",
       "      <td>Gordon Lightfoot</td>\n",
       "      <td>Ribbon Of Darkness</td>\n",
       "      <td>Ribbon of darkness over me  \\r\\nSince my true ...</td>\n",
       "    </tr>\n",
       "    <tr>\n",
       "      <th>3</th>\n",
       "      <td>Faces</td>\n",
       "      <td>Stay With Me</td>\n",
       "      <td>In the morning  \\r\\nDon't say you love me  \\r\\...</td>\n",
       "    </tr>\n",
       "    <tr>\n",
       "      <th>4</th>\n",
       "      <td>Queen</td>\n",
       "      <td>Liar</td>\n",
       "      <td>I have sinned dear father, father I have sinne...</td>\n",
       "    </tr>\n",
       "    <tr>\n",
       "      <th>5</th>\n",
       "      <td>Gino Vannelli</td>\n",
       "      <td>Nightwalker</td>\n",
       "      <td>I sleep at night  \\r\\nOn a cloud high on the h...</td>\n",
       "    </tr>\n",
       "    <tr>\n",
       "      <th>6</th>\n",
       "      <td>Ariana Grande</td>\n",
       "      <td>Tattooed Heart</td>\n",
       "      <td>You don't need a lot of money  \\r\\nHoney, you ...</td>\n",
       "    </tr>\n",
       "    <tr>\n",
       "      <th>7</th>\n",
       "      <td>Robbie Williams</td>\n",
       "      <td>Mess Me Up</td>\n",
       "      <td>From The Front  \\r\\nTo The Back  \\r\\nPut A Hum...</td>\n",
       "    </tr>\n",
       "    <tr>\n",
       "      <th>8</th>\n",
       "      <td>Neil Diamond</td>\n",
       "      <td>Don't Go Away Mad</td>\n",
       "      <td>I guess you think  \\r\\nThat if you snap your f...</td>\n",
       "    </tr>\n",
       "    <tr>\n",
       "      <th>9</th>\n",
       "      <td>Manowar</td>\n",
       "      <td>Fast Taker</td>\n",
       "      <td>Mama is having problems  \\r\\nalways comes to m...</td>\n",
       "    </tr>\n",
       "  </tbody>\n",
       "</table>\n",
       "</div>"
      ],
      "text/plain": [
       "             artist                                 song  \\\n",
       "0       Dean Martin  I Feel Like A Feather In The Breeze   \n",
       "1       Rod Stewart             Mama You Been On My Mind   \n",
       "2  Gordon Lightfoot                   Ribbon Of Darkness   \n",
       "3             Faces                         Stay With Me   \n",
       "4             Queen                                 Liar   \n",
       "5     Gino Vannelli                          Nightwalker   \n",
       "6     Ariana Grande                       Tattooed Heart   \n",
       "7   Robbie Williams                           Mess Me Up   \n",
       "8      Neil Diamond                    Don't Go Away Mad   \n",
       "9           Manowar                           Fast Taker   \n",
       "\n",
       "                                                text  \n",
       "0  I feel like a feather in the breeze  \\r\\nRidin...  \n",
       "1  Perhaps it's the color of the sun cut flat  \\r...  \n",
       "2  Ribbon of darkness over me  \\r\\nSince my true ...  \n",
       "3  In the morning  \\r\\nDon't say you love me  \\r\\...  \n",
       "4  I have sinned dear father, father I have sinne...  \n",
       "5  I sleep at night  \\r\\nOn a cloud high on the h...  \n",
       "6  You don't need a lot of money  \\r\\nHoney, you ...  \n",
       "7  From The Front  \\r\\nTo The Back  \\r\\nPut A Hum...  \n",
       "8  I guess you think  \\r\\nThat if you snap your f...  \n",
       "9  Mama is having problems  \\r\\nalways comes to m...  "
      ]
     },
     "execution_count": 39,
     "metadata": {},
     "output_type": "execute_result"
    }
   ],
   "source": [
    "df.head(10)"
   ]
  },
  {
   "cell_type": "code",
   "execution_count": 40,
   "id": "26eb5b1c",
   "metadata": {},
   "outputs": [
    {
     "data": {
      "text/plain": [
       "\"I feel like a feather in the breeze  \\r\\nRiding on high, high in the sky  \\r\\nHoney and I walking on air  \\r\\nSince the moment that she told me she cared  \\r\\nFeel like a feather in the breeze  \\r\\nFloating through space in your embrace  \\r\\nDancing on clouds way up above  \\r\\nSince the second that you beckoned my love  \\r\\nI'm happy  \\r\\nSo happy when you're near  \\r\\nMy troubles just disappear  \\r\\nAs soon as you're by my side well I'm satisfied  \\r\\nI feel like a feather in the breeze  \\r\\nHaving my fun, kissing the sun  \\r\\nAnd it's because you are the one  \\r\\nSo I'm singing like the birdies in the trees  \\r\\nAnd feeling like a feather in a breeze  \\r\\nI'm happy  \\r\\nSo happy when you're near  \\r\\nMy troubles just disappear  \\r\\nAs soon as you're by my side well I'm satisfied  \\r\\nI feel like a feather in the breeze  \\r\\nHaving my fun, kissing the sun  \\r\\nAnd it's because you are the one  \\r\\nSo I'm singing like the birdies in the trees  \\r\\nAnd feeling like a feather  \\r\\nFeeling like a feather  \\r\\nFeeling like a feather  \\r\\nFeeling like a feather in the breeze  \\r\\n  \\r\\n  \\r\\n\\r\\n\""
      ]
     },
     "execution_count": 40,
     "metadata": {},
     "output_type": "execute_result"
    }
   ],
   "source": [
    "df['text'][0]"
   ]
  },
  {
   "cell_type": "code",
   "execution_count": 41,
   "id": "dc76d0f4",
   "metadata": {},
   "outputs": [],
   "source": [
    "# df = df.sample(5000)"
   ]
  },
  {
   "cell_type": "code",
   "execution_count": 42,
   "id": "4a0c4186",
   "metadata": {},
   "outputs": [
    {
     "data": {
      "text/plain": [
       "(5000, 3)"
      ]
     },
     "execution_count": 42,
     "metadata": {},
     "output_type": "execute_result"
    }
   ],
   "source": [
    "df.shape"
   ]
  },
  {
   "cell_type": "markdown",
   "id": "865afecc",
   "metadata": {},
   "source": [
    "Text Cleaning/ Text Preprocessing"
   ]
  },
  {
   "cell_type": "code",
   "execution_count": 43,
   "id": "b2359525",
   "metadata": {},
   "outputs": [],
   "source": [
    "df['text'] = df['text'].str.lower().replace(r'^\\w\\s', ' ').replace(r'\\n', ' ', regex = True)"
   ]
  },
  {
   "cell_type": "code",
   "execution_count": 44,
   "id": "0342babd",
   "metadata": {},
   "outputs": [],
   "source": [
    "df = df.assign(feedback=0)"
   ]
  },
  {
   "cell_type": "code",
   "execution_count": 45,
   "id": "7e78451e",
   "metadata": {},
   "outputs": [],
   "source": [
    "import nltk\n",
    "from nltk.stem.porter import PorterStemmer\n",
    "stemmer = PorterStemmer()\n",
    "\n",
    "def tokenization(txt):\n",
    "    tokens = nltk.word_tokenize(txt)\n",
    "    stemming = [stemmer.stem(w) for w in tokens]\n",
    "    return \" \".join(stemming)"
   ]
  },
  {
   "cell_type": "code",
   "execution_count": 46,
   "id": "f5c1ece2",
   "metadata": {},
   "outputs": [],
   "source": [
    "df['text'] = df['text'].apply(lambda x: tokenization(x))"
   ]
  },
  {
   "cell_type": "code",
   "execution_count": 47,
   "id": "95fc3be2",
   "metadata": {},
   "outputs": [],
   "source": [
    "from sklearn.feature_extraction.text import TfidfVectorizer\n",
    "from sklearn.metrics.pairwise import cosine_similarity"
   ]
  },
  {
   "cell_type": "code",
   "execution_count": 48,
   "id": "f4945e8f",
   "metadata": {},
   "outputs": [],
   "source": [
    "tfidvector = TfidfVectorizer(analyzer='word',stop_words='english')\n",
    "matrix = tfidvector.fit_transform(df['text'])\n",
    "similarity = cosine_similarity(matrix)"
   ]
  },
  {
   "cell_type": "code",
   "execution_count": 49,
   "id": "c1794772",
   "metadata": {},
   "outputs": [
    {
     "data": {
      "text/plain": [
       "array([1.00000000e+00, 4.43169401e-02, 2.57455164e-02, ...,\n",
       "       2.06932010e-02, 9.22080723e-04, 5.24344004e-02])"
      ]
     },
     "execution_count": 49,
     "metadata": {},
     "output_type": "execute_result"
    }
   ],
   "source": [
    "similarity[0]"
   ]
  },
  {
   "cell_type": "code",
   "execution_count": 50,
   "id": "a6221770",
   "metadata": {},
   "outputs": [
    {
     "data": {
      "text/html": [
       "<div>\n",
       "<style scoped>\n",
       "    .dataframe tbody tr th:only-of-type {\n",
       "        vertical-align: middle;\n",
       "    }\n",
       "\n",
       "    .dataframe tbody tr th {\n",
       "        vertical-align: top;\n",
       "    }\n",
       "\n",
       "    .dataframe thead th {\n",
       "        text-align: right;\n",
       "    }\n",
       "</style>\n",
       "<table border=\"1\" class=\"dataframe\">\n",
       "  <thead>\n",
       "    <tr style=\"text-align: right;\">\n",
       "      <th></th>\n",
       "      <th>artist</th>\n",
       "      <th>song</th>\n",
       "      <th>text</th>\n",
       "      <th>feedback</th>\n",
       "    </tr>\n",
       "  </thead>\n",
       "  <tbody>\n",
       "    <tr>\n",
       "      <th>0</th>\n",
       "      <td>Dean Martin</td>\n",
       "      <td>I Feel Like A Feather In The Breeze</td>\n",
       "      <td>i feel like a feather in the breez ride on hig...</td>\n",
       "      <td>0</td>\n",
       "    </tr>\n",
       "  </tbody>\n",
       "</table>\n",
       "</div>"
      ],
      "text/plain": [
       "        artist                                 song  \\\n",
       "0  Dean Martin  I Feel Like A Feather In The Breeze   \n",
       "\n",
       "                                                text  feedback  \n",
       "0  i feel like a feather in the breez ride on hig...         0  "
      ]
     },
     "execution_count": 50,
     "metadata": {},
     "output_type": "execute_result"
    }
   ],
   "source": [
    "df[df['song'] == df.iloc[0]['song']]"
   ]
  },
  {
   "cell_type": "code",
   "execution_count": 51,
   "id": "ffe41a9c",
   "metadata": {},
   "outputs": [],
   "source": [
    "from sklearn.model_selection import train_test_split\n",
    "from sklearn.svm import SVC\n",
    "from sklearn.metrics import confusion_matrix\n",
    "from sklearn.metrics import classification_report\n",
    "import numpy as np\n",
    "from scipy.sparse import hstack, csr_matrix"
   ]
  },
  {
   "cell_type": "code",
   "execution_count": 52,
   "id": "296d2239",
   "metadata": {},
   "outputs": [],
   "source": [
    "df['combined_text'] = df['artist'] + ' ' + df['song'] + ' ' + df['text']\n",
    "tfid_X = tfidvector.fit_transform(df['combined_text'])\n",
    "\n",
    "df['feedback'] = np.random.choice([-1, 0, 1], size=len(df))\n",
    "\n",
    "y = df['feedback']\n",
    "\n",
    "X_train, X_test, y_train, y_test = train_test_split(tfid_X, y, test_size=0.2, random_state=42)\n",
    "\n",
    "svc = SVC(probability=True)\n",
    "svc.fit(X_train, y_train)\n",
    "\n",
    "train_score = svc.score(X_train, y_train)\n",
    "test_score = svc.score(X_test, y_test)"
   ]
  },
  {
   "cell_type": "code",
   "execution_count": 53,
   "id": "c9cda4b3",
   "metadata": {},
   "outputs": [
    {
     "data": {
      "text/plain": [
       "(5000, 19914)"
      ]
     },
     "execution_count": 53,
     "metadata": {},
     "output_type": "execute_result"
    }
   ],
   "source": [
    "tfid_X.shape"
   ]
  },
  {
   "cell_type": "code",
   "execution_count": 54,
   "id": "f3d542ec",
   "metadata": {},
   "outputs": [
    {
     "name": "stdout",
     "output_type": "stream",
     "text": [
      "Training accuracy: 0.97225\n",
      "Testing accuracy: 0.314\n"
     ]
    }
   ],
   "source": [
    "print(\"Training accuracy:\", train_score)\n",
    "print(\"Testing accuracy:\", test_score)"
   ]
  },
  {
   "cell_type": "code",
   "execution_count": 55,
   "id": "01b0f772",
   "metadata": {},
   "outputs": [
    {
     "name": "stdout",
     "output_type": "stream",
     "text": [
      "[[ 60 172  82]\n",
      " [ 59 165 107]\n",
      " [ 80 186  89]]\n"
     ]
    }
   ],
   "source": [
    "ypred = svc.predict(X_test)\n",
    "\n",
    "cm = confusion_matrix(y_test, ypred)\n",
    "print(cm)"
   ]
  },
  {
   "cell_type": "code",
   "execution_count": 56,
   "id": "41da2fdf",
   "metadata": {},
   "outputs": [
    {
     "name": "stdout",
     "output_type": "stream",
     "text": [
      "              precision    recall  f1-score   support\n",
      "\n",
      "          -1       0.30      0.19      0.23       314\n",
      "           0       0.32      0.50      0.39       331\n",
      "           1       0.32      0.25      0.28       355\n",
      "\n",
      "    accuracy                           0.31      1000\n",
      "   macro avg       0.31      0.31      0.30      1000\n",
      "weighted avg       0.31      0.31      0.30      1000\n",
      "\n"
     ]
    }
   ],
   "source": [
    "cr = classification_report(y_test, ypred)\n",
    "print(cr)"
   ]
  },
  {
   "cell_type": "code",
   "execution_count": 57,
   "id": "5aaa2361",
   "metadata": {},
   "outputs": [],
   "source": [
    "def recommendation(song_df, svc_model):\n",
    "    idx = df[df['song'] == song_df].index[0]\n",
    "    distances = sorted(list(enumerate(similarity[idx])),reverse=True,key=lambda x:x[1])\n",
    "    \n",
    "    recommended_songs = []\n",
    "    song_probs = []\n",
    "    \n",
    "    for m_id in distances[1:21]:\n",
    "        artist = df.iloc[m_id[0]]['artist']\n",
    "        song = df.iloc[m_id[0]]['song']\n",
    "        text = df.iloc[m_id[0]]['text']\n",
    "        \n",
    "        combo = f\"{artist} {song} {text}\"\n",
    "        X = tfidvector.fit_transform([combo])\n",
    "\n",
    "        num_columns_to_add = tfid_X.shape[1] - X.shape[1]\n",
    "\n",
    "        zeros_matrix = csr_matrix((X.shape[0], num_columns_to_add), dtype=np.float64)\n",
    "\n",
    "        X = hstack([X, zeros_matrix])\n",
    "    \n",
    "        probability = svc_model.predict_proba(X)[0][1]\n",
    "        song_probs.append(probability)\n",
    "    \n",
    "    sorted_indices = sorted(range(len(song_probs)), key=lambda i: song_probs[i], reverse=True)\n",
    "    sorted_songs = [distances[i+1][0] for i in sorted_indices]\n",
    "    \n",
    "    recommended_songs = [df.iloc[i]['song'] for i in sorted_songs]\n",
    "    \n",
    "    return recommended_songs\n"
   ]
  },
  {
   "cell_type": "code",
   "execution_count": 58,
   "id": "216c25bb",
   "metadata": {},
   "outputs": [
    {
     "data": {
      "text/plain": [
       "['A Touch Away',\n",
       " 'Just Like That',\n",
       " 'Skin Feeling',\n",
       " 'I Know',\n",
       " 'Just Like Me',\n",
       " 'Feels Like Home',\n",
       " 'I Feel Like Dying',\n",
       " 'Both Sides Now',\n",
       " 'Happy',\n",
       " 'Can You Feel It',\n",
       " 'Letting Go',\n",
       " 'Somebody Knows',\n",
       " 'Feelings',\n",
       " \"Let's Make Sure We Kiss Goodbye\",\n",
       " 'I Like How It Feels',\n",
       " \"I'm So High\",\n",
       " 'Fine As Fine Can Be',\n",
       " 'In Another Land',\n",
       " 'Happy',\n",
       " 'Feels Like Home']"
      ]
     },
     "execution_count": 58,
     "metadata": {},
     "output_type": "execute_result"
    }
   ],
   "source": [
    "recommendation(df.iloc[0]['song'], svc)"
   ]
  },
  {
   "cell_type": "markdown",
   "id": "97745304",
   "metadata": {},
   "source": []
  },
  {
   "cell_type": "code",
   "execution_count": 59,
   "id": "23fc8f7c",
   "metadata": {},
   "outputs": [],
   "source": [
    "def update_model(return_info):\n",
    "    for row in return_info:\n",
    "        song_name = row[0]\n",
    "        feedback_value = row[2]\n",
    "        df.loc[df['song'] == song_name, 'feedback'] = feedback_value\n",
    "\n",
    "    df['combined_text'] = df['artist'] + ' ' + df['song'] + ' ' + df['text']\n",
    "    tfid_X = tfidvector.fit_transform(df['combined_text'])\n",
    "\n",
    "    df['feedback'] = np.random.choice([-1, 0, 1], size=len(df))\n",
    "\n",
    "    y = df['feedback']\n",
    "\n",
    "    X_train, X_test, y_train, y_test = train_test_split(tfid_X, y, test_size=0.2, random_state=42)\n",
    "\n",
    "    svc = SVC(probability=True)\n",
    "    svc.fit(X_train, y_train)\n",
    "\n",
    "    return svc"
   ]
  },
  {
   "cell_type": "code",
   "execution_count": 60,
   "id": "18192437",
   "metadata": {},
   "outputs": [],
   "source": [
    "import pickle\n",
    "pickle.dump(similarity,open('similarity.pkl','wb'))\n",
    "pickle.dump(df,open('df.pkl','wb'))\n",
    "pickle.dump(svc,open('svc.pkl','wb'))"
   ]
  },
  {
   "cell_type": "code",
   "execution_count": 61,
   "id": "e7edcf20",
   "metadata": {},
   "outputs": [
    {
     "data": {
      "text/html": [
       "<div>\n",
       "<style scoped>\n",
       "    .dataframe tbody tr th:only-of-type {\n",
       "        vertical-align: middle;\n",
       "    }\n",
       "\n",
       "    .dataframe tbody tr th {\n",
       "        vertical-align: top;\n",
       "    }\n",
       "\n",
       "    .dataframe thead th {\n",
       "        text-align: right;\n",
       "    }\n",
       "</style>\n",
       "<table border=\"1\" class=\"dataframe\">\n",
       "  <thead>\n",
       "    <tr style=\"text-align: right;\">\n",
       "      <th></th>\n",
       "      <th>artist</th>\n",
       "      <th>song</th>\n",
       "      <th>text</th>\n",
       "      <th>feedback</th>\n",
       "      <th>combined_text</th>\n",
       "    </tr>\n",
       "  </thead>\n",
       "  <tbody>\n",
       "    <tr>\n",
       "      <th>0</th>\n",
       "      <td>Dean Martin</td>\n",
       "      <td>I Feel Like A Feather In The Breeze</td>\n",
       "      <td>i feel like a feather in the breez ride on hig...</td>\n",
       "      <td>0</td>\n",
       "      <td>Dean Martin I Feel Like A Feather In The Breez...</td>\n",
       "    </tr>\n",
       "    <tr>\n",
       "      <th>1</th>\n",
       "      <td>Rod Stewart</td>\n",
       "      <td>Mama You Been On My Mind</td>\n",
       "      <td>perhap it 's the color of the sun cut flat and...</td>\n",
       "      <td>0</td>\n",
       "      <td>Rod Stewart Mama You Been On My Mind perhap it...</td>\n",
       "    </tr>\n",
       "    <tr>\n",
       "      <th>2</th>\n",
       "      <td>Gordon Lightfoot</td>\n",
       "      <td>Ribbon Of Darkness</td>\n",
       "      <td>ribbon of dark over me sinc my true love walk ...</td>\n",
       "      <td>0</td>\n",
       "      <td>Gordon Lightfoot Ribbon Of Darkness ribbon of ...</td>\n",
       "    </tr>\n",
       "    <tr>\n",
       "      <th>3</th>\n",
       "      <td>Faces</td>\n",
       "      <td>Stay With Me</td>\n",
       "      <td>in the morn do n't say you love me 'caus i 'll...</td>\n",
       "      <td>1</td>\n",
       "      <td>Faces Stay With Me in the morn do n't say you ...</td>\n",
       "    </tr>\n",
       "    <tr>\n",
       "      <th>4</th>\n",
       "      <td>Queen</td>\n",
       "      <td>Liar</td>\n",
       "      <td>i have sin dear father , father i have sin tri...</td>\n",
       "      <td>1</td>\n",
       "      <td>Queen Liar i have sin dear father , father i h...</td>\n",
       "    </tr>\n",
       "  </tbody>\n",
       "</table>\n",
       "</div>"
      ],
      "text/plain": [
       "             artist                                 song  \\\n",
       "0       Dean Martin  I Feel Like A Feather In The Breeze   \n",
       "1       Rod Stewart             Mama You Been On My Mind   \n",
       "2  Gordon Lightfoot                   Ribbon Of Darkness   \n",
       "3             Faces                         Stay With Me   \n",
       "4             Queen                                 Liar   \n",
       "\n",
       "                                                text  feedback  \\\n",
       "0  i feel like a feather in the breez ride on hig...         0   \n",
       "1  perhap it 's the color of the sun cut flat and...         0   \n",
       "2  ribbon of dark over me sinc my true love walk ...         0   \n",
       "3  in the morn do n't say you love me 'caus i 'll...         1   \n",
       "4  i have sin dear father , father i have sin tri...         1   \n",
       "\n",
       "                                       combined_text  \n",
       "0  Dean Martin I Feel Like A Feather In The Breez...  \n",
       "1  Rod Stewart Mama You Been On My Mind perhap it...  \n",
       "2  Gordon Lightfoot Ribbon Of Darkness ribbon of ...  \n",
       "3  Faces Stay With Me in the morn do n't say you ...  \n",
       "4  Queen Liar i have sin dear father , father i h...  "
      ]
     },
     "execution_count": 61,
     "metadata": {},
     "output_type": "execute_result"
    }
   ],
   "source": [
    "df.head()"
   ]
  }
 ],
 "metadata": {
  "kernelspec": {
   "display_name": "Python 3 (ipykernel)",
   "language": "python",
   "name": "python3"
  },
  "language_info": {
   "codemirror_mode": {
    "name": "ipython",
    "version": 3
   },
   "file_extension": ".py",
   "mimetype": "text/x-python",
   "name": "python",
   "nbconvert_exporter": "python",
   "pygments_lexer": "ipython3",
   "version": "3.11.4"
  }
 },
 "nbformat": 4,
 "nbformat_minor": 5
}
