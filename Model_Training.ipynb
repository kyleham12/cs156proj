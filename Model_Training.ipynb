{
 "cells": [
  {
   "cell_type": "code",
   "execution_count": 31,
   "id": "50ac34ed",
   "metadata": {},
   "outputs": [],
   "source": [
    "import pandas as pd\n",
    "import nltk"
   ]
  },
  {
   "cell_type": "code",
   "execution_count": 32,
   "id": "8d218487",
   "metadata": {},
   "outputs": [],
   "source": [
    "df = pd.read_csv(\"spotify_millsongdata.csv\")"
   ]
  },
  {
   "cell_type": "code",
   "execution_count": 33,
   "id": "79919672",
   "metadata": {},
   "outputs": [
    {
     "data": {
      "text/html": [
       "<div>\n",
       "<style scoped>\n",
       "    .dataframe tbody tr th:only-of-type {\n",
       "        vertical-align: middle;\n",
       "    }\n",
       "\n",
       "    .dataframe tbody tr th {\n",
       "        vertical-align: top;\n",
       "    }\n",
       "\n",
       "    .dataframe thead th {\n",
       "        text-align: right;\n",
       "    }\n",
       "</style>\n",
       "<table border=\"1\" class=\"dataframe\">\n",
       "  <thead>\n",
       "    <tr style=\"text-align: right;\">\n",
       "      <th></th>\n",
       "      <th>artist</th>\n",
       "      <th>song</th>\n",
       "      <th>link</th>\n",
       "      <th>text</th>\n",
       "    </tr>\n",
       "  </thead>\n",
       "  <tbody>\n",
       "    <tr>\n",
       "      <th>0</th>\n",
       "      <td>ABBA</td>\n",
       "      <td>Ahe's My Kind Of Girl</td>\n",
       "      <td>/a/abba/ahes+my+kind+of+girl_20598417.html</td>\n",
       "      <td>Look at her face, it's a wonderful face  \\r\\nA...</td>\n",
       "    </tr>\n",
       "    <tr>\n",
       "      <th>1</th>\n",
       "      <td>ABBA</td>\n",
       "      <td>Andante, Andante</td>\n",
       "      <td>/a/abba/andante+andante_20002708.html</td>\n",
       "      <td>Take it easy with me, please  \\r\\nTouch me gen...</td>\n",
       "    </tr>\n",
       "    <tr>\n",
       "      <th>2</th>\n",
       "      <td>ABBA</td>\n",
       "      <td>As Good As New</td>\n",
       "      <td>/a/abba/as+good+as+new_20003033.html</td>\n",
       "      <td>I'll never know why I had to go  \\r\\nWhy I had...</td>\n",
       "    </tr>\n",
       "    <tr>\n",
       "      <th>3</th>\n",
       "      <td>ABBA</td>\n",
       "      <td>Bang</td>\n",
       "      <td>/a/abba/bang_20598415.html</td>\n",
       "      <td>Making somebody happy is a question of give an...</td>\n",
       "    </tr>\n",
       "    <tr>\n",
       "      <th>4</th>\n",
       "      <td>ABBA</td>\n",
       "      <td>Bang-A-Boomerang</td>\n",
       "      <td>/a/abba/bang+a+boomerang_20002668.html</td>\n",
       "      <td>Making somebody happy is a question of give an...</td>\n",
       "    </tr>\n",
       "  </tbody>\n",
       "</table>\n",
       "</div>"
      ],
      "text/plain": [
       "  artist                   song                                        link  \\\n",
       "0   ABBA  Ahe's My Kind Of Girl  /a/abba/ahes+my+kind+of+girl_20598417.html   \n",
       "1   ABBA       Andante, Andante       /a/abba/andante+andante_20002708.html   \n",
       "2   ABBA         As Good As New        /a/abba/as+good+as+new_20003033.html   \n",
       "3   ABBA                   Bang                  /a/abba/bang_20598415.html   \n",
       "4   ABBA       Bang-A-Boomerang      /a/abba/bang+a+boomerang_20002668.html   \n",
       "\n",
       "                                                text  \n",
       "0  Look at her face, it's a wonderful face  \\r\\nA...  \n",
       "1  Take it easy with me, please  \\r\\nTouch me gen...  \n",
       "2  I'll never know why I had to go  \\r\\nWhy I had...  \n",
       "3  Making somebody happy is a question of give an...  \n",
       "4  Making somebody happy is a question of give an...  "
      ]
     },
     "execution_count": 33,
     "metadata": {},
     "output_type": "execute_result"
    }
   ],
   "source": [
    "df.head(5)"
   ]
  },
  {
   "cell_type": "code",
   "execution_count": 34,
   "id": "b61c723f",
   "metadata": {},
   "outputs": [
    {
     "data": {
      "text/html": [
       "<div>\n",
       "<style scoped>\n",
       "    .dataframe tbody tr th:only-of-type {\n",
       "        vertical-align: middle;\n",
       "    }\n",
       "\n",
       "    .dataframe tbody tr th {\n",
       "        vertical-align: top;\n",
       "    }\n",
       "\n",
       "    .dataframe thead th {\n",
       "        text-align: right;\n",
       "    }\n",
       "</style>\n",
       "<table border=\"1\" class=\"dataframe\">\n",
       "  <thead>\n",
       "    <tr style=\"text-align: right;\">\n",
       "      <th></th>\n",
       "      <th>artist</th>\n",
       "      <th>song</th>\n",
       "      <th>link</th>\n",
       "      <th>text</th>\n",
       "    </tr>\n",
       "  </thead>\n",
       "  <tbody>\n",
       "    <tr>\n",
       "      <th>57645</th>\n",
       "      <td>Ziggy Marley</td>\n",
       "      <td>Good Old Days</td>\n",
       "      <td>/z/ziggy+marley/good+old+days_10198588.html</td>\n",
       "      <td>Irie days come on play  \\r\\nLet the angels fly...</td>\n",
       "    </tr>\n",
       "    <tr>\n",
       "      <th>57646</th>\n",
       "      <td>Ziggy Marley</td>\n",
       "      <td>Hand To Mouth</td>\n",
       "      <td>/z/ziggy+marley/hand+to+mouth_20531167.html</td>\n",
       "      <td>Power to the workers  \\r\\nMore power  \\r\\nPowe...</td>\n",
       "    </tr>\n",
       "    <tr>\n",
       "      <th>57647</th>\n",
       "      <td>Zwan</td>\n",
       "      <td>Come With Me</td>\n",
       "      <td>/z/zwan/come+with+me_20148981.html</td>\n",
       "      <td>all you need  \\r\\nis something i'll believe  \\...</td>\n",
       "    </tr>\n",
       "    <tr>\n",
       "      <th>57648</th>\n",
       "      <td>Zwan</td>\n",
       "      <td>Desire</td>\n",
       "      <td>/z/zwan/desire_20148986.html</td>\n",
       "      <td>northern star  \\r\\nam i frightened  \\r\\nwhere ...</td>\n",
       "    </tr>\n",
       "    <tr>\n",
       "      <th>57649</th>\n",
       "      <td>Zwan</td>\n",
       "      <td>Heartsong</td>\n",
       "      <td>/z/zwan/heartsong_20148991.html</td>\n",
       "      <td>come in  \\r\\nmake yourself at home  \\r\\ni'm a ...</td>\n",
       "    </tr>\n",
       "  </tbody>\n",
       "</table>\n",
       "</div>"
      ],
      "text/plain": [
       "             artist           song  \\\n",
       "57645  Ziggy Marley  Good Old Days   \n",
       "57646  Ziggy Marley  Hand To Mouth   \n",
       "57647          Zwan   Come With Me   \n",
       "57648          Zwan         Desire   \n",
       "57649          Zwan      Heartsong   \n",
       "\n",
       "                                              link  \\\n",
       "57645  /z/ziggy+marley/good+old+days_10198588.html   \n",
       "57646  /z/ziggy+marley/hand+to+mouth_20531167.html   \n",
       "57647           /z/zwan/come+with+me_20148981.html   \n",
       "57648                 /z/zwan/desire_20148986.html   \n",
       "57649              /z/zwan/heartsong_20148991.html   \n",
       "\n",
       "                                                    text  \n",
       "57645  Irie days come on play  \\r\\nLet the angels fly...  \n",
       "57646  Power to the workers  \\r\\nMore power  \\r\\nPowe...  \n",
       "57647  all you need  \\r\\nis something i'll believe  \\...  \n",
       "57648  northern star  \\r\\nam i frightened  \\r\\nwhere ...  \n",
       "57649  come in  \\r\\nmake yourself at home  \\r\\ni'm a ...  "
      ]
     },
     "execution_count": 34,
     "metadata": {},
     "output_type": "execute_result"
    }
   ],
   "source": [
    "df.tail(5)"
   ]
  },
  {
   "cell_type": "code",
   "execution_count": 35,
   "id": "d7d8fa2a",
   "metadata": {},
   "outputs": [
    {
     "data": {
      "text/plain": [
       "(57650, 4)"
      ]
     },
     "execution_count": 35,
     "metadata": {},
     "output_type": "execute_result"
    }
   ],
   "source": [
    "df.shape"
   ]
  },
  {
   "cell_type": "code",
   "execution_count": 36,
   "id": "a8fdecf9",
   "metadata": {},
   "outputs": [
    {
     "data": {
      "text/plain": [
       "artist    0\n",
       "song      0\n",
       "link      0\n",
       "text      0\n",
       "dtype: int64"
      ]
     },
     "execution_count": 36,
     "metadata": {},
     "output_type": "execute_result"
    }
   ],
   "source": [
    "df.isnull().sum()"
   ]
  },
  {
   "cell_type": "code",
   "execution_count": 37,
   "id": "dde3d24b",
   "metadata": {},
   "outputs": [],
   "source": [
    "df =df.sample(5000).drop('link', axis=1).reset_index(drop=True)"
   ]
  },
  {
   "cell_type": "code",
   "execution_count": 38,
   "id": "cf5ff69f",
   "metadata": {},
   "outputs": [
    {
     "data": {
      "text/html": [
       "<div>\n",
       "<style scoped>\n",
       "    .dataframe tbody tr th:only-of-type {\n",
       "        vertical-align: middle;\n",
       "    }\n",
       "\n",
       "    .dataframe tbody tr th {\n",
       "        vertical-align: top;\n",
       "    }\n",
       "\n",
       "    .dataframe thead th {\n",
       "        text-align: right;\n",
       "    }\n",
       "</style>\n",
       "<table border=\"1\" class=\"dataframe\">\n",
       "  <thead>\n",
       "    <tr style=\"text-align: right;\">\n",
       "      <th></th>\n",
       "      <th>artist</th>\n",
       "      <th>song</th>\n",
       "      <th>text</th>\n",
       "    </tr>\n",
       "  </thead>\n",
       "  <tbody>\n",
       "    <tr>\n",
       "      <th>0</th>\n",
       "      <td>Kenny Rogers</td>\n",
       "      <td>I Don't Wanna Know Why</td>\n",
       "      <td>I don't wanna know why  \\r\\n  \\r\\nI took your ...</td>\n",
       "    </tr>\n",
       "    <tr>\n",
       "      <th>1</th>\n",
       "      <td>Spandau Ballet</td>\n",
       "      <td>Code Of Love</td>\n",
       "      <td>He put so much into her life  \\r\\nShe took so ...</td>\n",
       "    </tr>\n",
       "    <tr>\n",
       "      <th>2</th>\n",
       "      <td>Backstreet Boys</td>\n",
       "      <td>One Phone Call</td>\n",
       "      <td>Hard to believe it  \\r\\nIt's almost a year sin...</td>\n",
       "    </tr>\n",
       "    <tr>\n",
       "      <th>3</th>\n",
       "      <td>Dolly Parton</td>\n",
       "      <td>9 To 5</td>\n",
       "      <td>Tumble out of bed  \\r\\nAnd stumble to the kitc...</td>\n",
       "    </tr>\n",
       "    <tr>\n",
       "      <th>4</th>\n",
       "      <td>Radiohead</td>\n",
       "      <td>Talk Show Host</td>\n",
       "      <td>I want to  \\r\\nI want to be someone else or I'...</td>\n",
       "    </tr>\n",
       "    <tr>\n",
       "      <th>5</th>\n",
       "      <td>Johnny Cash</td>\n",
       "      <td>Field Of Diamonds</td>\n",
       "      <td>Field of diamonds in the sky, worlds are whirl...</td>\n",
       "    </tr>\n",
       "    <tr>\n",
       "      <th>6</th>\n",
       "      <td>Ace Of Base</td>\n",
       "      <td>Hallo, Hallo</td>\n",
       "      <td>Hello hello ahh...  \\r\\nHello hello ahh...  \\r...</td>\n",
       "    </tr>\n",
       "    <tr>\n",
       "      <th>7</th>\n",
       "      <td>Dave Matthews Band</td>\n",
       "      <td>Looking At You</td>\n",
       "      <td>If I had the world to make a day for you  \\r\\n...</td>\n",
       "    </tr>\n",
       "    <tr>\n",
       "      <th>8</th>\n",
       "      <td>Deep Purple</td>\n",
       "      <td>MTV</td>\n",
       "      <td>I was driving through the night  \\r\\nInto an e...</td>\n",
       "    </tr>\n",
       "    <tr>\n",
       "      <th>9</th>\n",
       "      <td>Europe</td>\n",
       "      <td>Last Look At Eden</td>\n",
       "      <td>I'm calling out tonight.  \\r\\nI wanna feel his...</td>\n",
       "    </tr>\n",
       "  </tbody>\n",
       "</table>\n",
       "</div>"
      ],
      "text/plain": [
       "               artist                    song  \\\n",
       "0        Kenny Rogers  I Don't Wanna Know Why   \n",
       "1      Spandau Ballet            Code Of Love   \n",
       "2     Backstreet Boys          One Phone Call   \n",
       "3        Dolly Parton                  9 To 5   \n",
       "4           Radiohead          Talk Show Host   \n",
       "5         Johnny Cash       Field Of Diamonds   \n",
       "6         Ace Of Base            Hallo, Hallo   \n",
       "7  Dave Matthews Band          Looking At You   \n",
       "8         Deep Purple                     MTV   \n",
       "9              Europe       Last Look At Eden   \n",
       "\n",
       "                                                text  \n",
       "0  I don't wanna know why  \\r\\n  \\r\\nI took your ...  \n",
       "1  He put so much into her life  \\r\\nShe took so ...  \n",
       "2  Hard to believe it  \\r\\nIt's almost a year sin...  \n",
       "3  Tumble out of bed  \\r\\nAnd stumble to the kitc...  \n",
       "4  I want to  \\r\\nI want to be someone else or I'...  \n",
       "5  Field of diamonds in the sky, worlds are whirl...  \n",
       "6  Hello hello ahh...  \\r\\nHello hello ahh...  \\r...  \n",
       "7  If I had the world to make a day for you  \\r\\n...  \n",
       "8  I was driving through the night  \\r\\nInto an e...  \n",
       "9  I'm calling out tonight.  \\r\\nI wanna feel his...  "
      ]
     },
     "execution_count": 38,
     "metadata": {},
     "output_type": "execute_result"
    }
   ],
   "source": [
    "df.head(10)"
   ]
  },
  {
   "cell_type": "code",
   "execution_count": 39,
   "id": "26eb5b1c",
   "metadata": {},
   "outputs": [
    {
     "data": {
      "text/plain": [
       "\"I don't wanna know why  \\r\\n  \\r\\nI took your love as desperate measure  \\r\\nSeeking shelter from another lonely night  \\r\\nYou took my love seeking only pleasure  \\r\\nBut the feeling passes and the passion doesn't last.  \\r\\n  \\r\\nAnd I don't wanna know why, I don't want no reasons  \\r\\nI just feel the seasons, as they touch another year.  \\r\\nAnd I don't wanna know why, I don't want no reasons  \\r\\nI just know what is now, and what could never be.  \\r\\n  \\r\\nWill the memories fade or will they linger?  \\r\\nWill we live forever for a moment we can keep?  \\r\\nNow we stand alone  \\r\\n(why don't you do what you told me)  \\r\\nWhere we stood together  \\r\\n(I only wanted you to hold me)  \\r\\nHow did we ever let this dream slip through our hand  \\r\\n(how did we ever let this dream slip through our hand).  \\r\\n  \\r\\nAnd I don't wanna know ....\\r\\n\\r\\n\""
      ]
     },
     "execution_count": 39,
     "metadata": {},
     "output_type": "execute_result"
    }
   ],
   "source": [
    "df['text'][0]"
   ]
  },
  {
   "cell_type": "code",
   "execution_count": 40,
   "id": "dc76d0f4",
   "metadata": {},
   "outputs": [],
   "source": [
    "# df = df.sample(5000)"
   ]
  },
  {
   "cell_type": "code",
   "execution_count": 41,
   "id": "4a0c4186",
   "metadata": {},
   "outputs": [
    {
     "data": {
      "text/plain": [
       "(5000, 3)"
      ]
     },
     "execution_count": 41,
     "metadata": {},
     "output_type": "execute_result"
    }
   ],
   "source": [
    "df.shape"
   ]
  },
  {
   "cell_type": "markdown",
   "id": "865afecc",
   "metadata": {},
   "source": [
    "Text Cleaning/ Text Preprocessing"
   ]
  },
  {
   "cell_type": "code",
   "execution_count": 42,
   "id": "b2359525",
   "metadata": {},
   "outputs": [],
   "source": [
    "df['text'] = df['text'].str.lower().replace(r'^\\w\\s', ' ').replace(r'\\n', ' ', regex = True)"
   ]
  },
  {
   "cell_type": "code",
   "execution_count": 43,
   "id": "0342babd",
   "metadata": {},
   "outputs": [],
   "source": [
    "df = df.assign(feedback=0)"
   ]
  },
  {
   "cell_type": "code",
   "execution_count": 44,
   "id": "7e78451e",
   "metadata": {},
   "outputs": [],
   "source": [
    "import nltk\n",
    "from nltk.stem.porter import PorterStemmer\n",
    "stemmer = PorterStemmer()\n",
    "\n",
    "def tokenization(txt):\n",
    "    tokens = nltk.word_tokenize(txt)\n",
    "    stemming = [stemmer.stem(w) for w in tokens]\n",
    "    return \" \".join(stemming)"
   ]
  },
  {
   "cell_type": "code",
   "execution_count": 45,
   "id": "f5c1ece2",
   "metadata": {},
   "outputs": [],
   "source": [
    "df['text'] = df['text'].apply(lambda x: tokenization(x))"
   ]
  },
  {
   "cell_type": "code",
   "execution_count": 46,
   "id": "95fc3be2",
   "metadata": {},
   "outputs": [],
   "source": [
    "from sklearn.feature_extraction.text import TfidfVectorizer\n",
    "from sklearn.metrics.pairwise import cosine_similarity"
   ]
  },
  {
   "cell_type": "code",
   "execution_count": 47,
   "id": "f4945e8f",
   "metadata": {},
   "outputs": [],
   "source": [
    "tfidvector = TfidfVectorizer(analyzer='word',stop_words='english')\n",
    "matrix = tfidvector.fit_transform(df['text'])\n",
    "similarity = cosine_similarity(matrix)"
   ]
  },
  {
   "cell_type": "code",
   "execution_count": 48,
   "id": "c1794772",
   "metadata": {},
   "outputs": [
    {
     "data": {
      "text/plain": [
       "array([1.        , 0.06530841, 0.07895657, ..., 0.05464158, 0.02799277,\n",
       "       0.05439745])"
      ]
     },
     "execution_count": 48,
     "metadata": {},
     "output_type": "execute_result"
    }
   ],
   "source": [
    "similarity[0]"
   ]
  },
  {
   "cell_type": "code",
   "execution_count": 49,
   "id": "a6221770",
   "metadata": {},
   "outputs": [
    {
     "data": {
      "text/html": [
       "<div>\n",
       "<style scoped>\n",
       "    .dataframe tbody tr th:only-of-type {\n",
       "        vertical-align: middle;\n",
       "    }\n",
       "\n",
       "    .dataframe tbody tr th {\n",
       "        vertical-align: top;\n",
       "    }\n",
       "\n",
       "    .dataframe thead th {\n",
       "        text-align: right;\n",
       "    }\n",
       "</style>\n",
       "<table border=\"1\" class=\"dataframe\">\n",
       "  <thead>\n",
       "    <tr style=\"text-align: right;\">\n",
       "      <th></th>\n",
       "      <th>artist</th>\n",
       "      <th>song</th>\n",
       "      <th>text</th>\n",
       "      <th>feedback</th>\n",
       "    </tr>\n",
       "  </thead>\n",
       "  <tbody>\n",
       "    <tr>\n",
       "      <th>0</th>\n",
       "      <td>Kenny Rogers</td>\n",
       "      <td>I Don't Wanna Know Why</td>\n",
       "      <td>i do n't wan na know whi i took your love as d...</td>\n",
       "      <td>0</td>\n",
       "    </tr>\n",
       "  </tbody>\n",
       "</table>\n",
       "</div>"
      ],
      "text/plain": [
       "         artist                    song  \\\n",
       "0  Kenny Rogers  I Don't Wanna Know Why   \n",
       "\n",
       "                                                text  feedback  \n",
       "0  i do n't wan na know whi i took your love as d...         0  "
      ]
     },
     "execution_count": 49,
     "metadata": {},
     "output_type": "execute_result"
    }
   ],
   "source": [
    "df[df['song'] == df.iloc[0]['song']]"
   ]
  },
  {
   "cell_type": "code",
   "execution_count": 50,
   "id": "ffe41a9c",
   "metadata": {},
   "outputs": [],
   "source": [
    "from sklearn.model_selection import train_test_split\n",
    "from sklearn.svm import SVC\n",
    "from sklearn.metrics import confusion_matrix\n",
    "from sklearn.metrics import classification_report\n",
    "import numpy as np\n",
    "from scipy.sparse import hstack, csr_matrix"
   ]
  },
  {
   "cell_type": "code",
   "execution_count": 51,
   "id": "296d2239",
   "metadata": {},
   "outputs": [],
   "source": [
    "df['combined_text'] = df['artist'] + ' ' + df['song'] + ' ' + df['text']\n",
    "tfid_X = tfidvector.fit_transform(df['combined_text'])\n",
    "\n",
    "df['feedback'] = np.random.choice([-1, 0, 1], size=len(df))\n",
    "\n",
    "y = df['feedback']\n",
    "\n",
    "X_train, X_test, y_train, y_test = train_test_split(tfid_X, y, test_size=0.2, random_state=42)\n",
    "\n",
    "svc = SVC(probability=True)\n",
    "svc.fit(X_train, y_train)\n",
    "\n",
    "train_score = svc.score(X_train, y_train)\n",
    "test_score = svc.score(X_test, y_test)"
   ]
  },
  {
   "cell_type": "code",
   "execution_count": 52,
   "id": "c9cda4b3",
   "metadata": {},
   "outputs": [
    {
     "data": {
      "text/plain": [
       "(5000, 19298)"
      ]
     },
     "execution_count": 52,
     "metadata": {},
     "output_type": "execute_result"
    }
   ],
   "source": [
    "tfid_X.shape"
   ]
  },
  {
   "cell_type": "code",
   "execution_count": 53,
   "id": "f3d542ec",
   "metadata": {},
   "outputs": [
    {
     "name": "stdout",
     "output_type": "stream",
     "text": [
      "Training accuracy: 0.9675\n",
      "Testing accuracy: 0.328\n"
     ]
    }
   ],
   "source": [
    "print(\"Training accuracy:\", train_score)\n",
    "print(\"Testing accuracy:\", test_score)"
   ]
  },
  {
   "cell_type": "code",
   "execution_count": 54,
   "id": "01b0f772",
   "metadata": {},
   "outputs": [
    {
     "name": "stdout",
     "output_type": "stream",
     "text": [
      "[[ 95 135 116]\n",
      " [ 99 138 102]\n",
      " [ 84 136  95]]\n"
     ]
    }
   ],
   "source": [
    "ypred = svc.predict(X_test)\n",
    "\n",
    "cm = confusion_matrix(y_test, ypred)\n",
    "print(cm)"
   ]
  },
  {
   "cell_type": "code",
   "execution_count": 55,
   "id": "41da2fdf",
   "metadata": {},
   "outputs": [
    {
     "name": "stdout",
     "output_type": "stream",
     "text": [
      "              precision    recall  f1-score   support\n",
      "\n",
      "          -1       0.34      0.27      0.30       346\n",
      "           0       0.34      0.41      0.37       339\n",
      "           1       0.30      0.30      0.30       315\n",
      "\n",
      "    accuracy                           0.33      1000\n",
      "   macro avg       0.33      0.33      0.33      1000\n",
      "weighted avg       0.33      0.33      0.33      1000\n",
      "\n"
     ]
    }
   ],
   "source": [
    "cr = classification_report(y_test, ypred)\n",
    "print(cr)"
   ]
  },
  {
   "cell_type": "code",
   "execution_count": 56,
   "id": "5aaa2361",
   "metadata": {},
   "outputs": [],
   "source": [
    "def recommendation(song_df, svc_model):\n",
    "    idx = df[df['song'] == song_df].index[0]\n",
    "    distances = sorted(list(enumerate(similarity[idx])),reverse=True,key=lambda x:x[1])\n",
    "    \n",
    "    recommended_songs = []\n",
    "    song_probs = []\n",
    "    \n",
    "    for m_id in distances[1:21]:\n",
    "        artist = df.iloc[m_id[0]]['artist']\n",
    "        song = df.iloc[m_id[0]]['song']\n",
    "        text = df.iloc[m_id[0]]['text']\n",
    "        \n",
    "        combo = f\"{artist} {song} {text}\"\n",
    "        X = tfidvector.fit_transform([combo])\n",
    "\n",
    "        num_columns_to_add = tfid_X.shape[1] - X.shape[1]\n",
    "\n",
    "        zeros_matrix = csr_matrix((X.shape[0], num_columns_to_add), dtype=np.float64)\n",
    "\n",
    "        X = hstack([X, zeros_matrix])\n",
    "    \n",
    "        probability = svc_model.predict_proba(X)[0][1]\n",
    "        song_probs.append(probability)\n",
    "    \n",
    "    sorted_indices = sorted(range(len(song_probs)), key=lambda i: song_probs[i], reverse=True)\n",
    "    sorted_songs = [distances[i+1][0] for i in sorted_indices]\n",
    "    \n",
    "    recommended_songs = [df.iloc[i]['song'] for i in sorted_songs]\n",
    "    \n",
    "    return recommended_songs\n"
   ]
  },
  {
   "cell_type": "code",
   "execution_count": 57,
   "id": "216c25bb",
   "metadata": {},
   "outputs": [
    {
     "data": {
      "text/plain": [
       "['There Was A Time',\n",
       " 'Last Look At Eden',\n",
       " \"Make No Mistakes, She's Mine\",\n",
       " 'Moments',\n",
       " \"I Don't Want To Know\",\n",
       " \"It's Only Love\",\n",
       " 'St. Louis',\n",
       " \"Lyin' In Bed\",\n",
       " 'All I Wanna Do Is You',\n",
       " 'We Will Be Together',\n",
       " 'The Runaway',\n",
       " \"Don't Wanna Let You Go\",\n",
       " 'Detroit City',\n",
       " 'All Night',\n",
       " 'Open Off My Love',\n",
       " 'I Just Wanna Love U (Offcial Kanye West Mumtribute Mix)',\n",
       " 'Farewell',\n",
       " \"Don't Wanna Lose You\",\n",
       " 'Ooh Baby',\n",
       " 'Santa Ana Wind']"
      ]
     },
     "execution_count": 57,
     "metadata": {},
     "output_type": "execute_result"
    }
   ],
   "source": [
    "recommendation(df.iloc[0]['song'], svc)"
   ]
  },
  {
   "cell_type": "markdown",
   "id": "97745304",
   "metadata": {},
   "source": []
  },
  {
   "cell_type": "code",
   "execution_count": 58,
   "id": "23fc8f7c",
   "metadata": {},
   "outputs": [],
   "source": [
    "def update_model(return_info):\n",
    "    for row in return_info:\n",
    "        song_name = row[0]\n",
    "        feedback_value = row[2]\n",
    "        df.loc[df['song'] == song_name, 'feedback'] = feedback_value\n",
    "\n",
    "    df['combined_text'] = df['artist'] + ' ' + df['song'] + ' ' + df['text']\n",
    "    tfid_X = tfidvector.fit_transform(df['combined_text'])\n",
    "\n",
    "    df['feedback'] = np.random.choice([-1, 0, 1], size=len(df))\n",
    "\n",
    "    y = df['feedback']\n",
    "\n",
    "    X_train, X_test, y_train, y_test = train_test_split(tfid_X, y, test_size=0.2, random_state=42)\n",
    "\n",
    "    svc = SVC(probability=True)\n",
    "    svc.fit(X_train, y_train)\n",
    "\n",
    "    return svc"
   ]
  },
  {
   "cell_type": "code",
   "execution_count": 59,
   "id": "18192437",
   "metadata": {},
   "outputs": [],
   "source": [
    "import pickle\n",
    "pickle.dump(similarity,open('similarity.pkl','wb'))\n",
    "pickle.dump(df,open('df.pkl','wb'))\n",
    "pickle.dump(svc,open('svc.pkl','wb'))"
   ]
  },
  {
   "cell_type": "code",
   "execution_count": 60,
   "id": "e7edcf20",
   "metadata": {},
   "outputs": [
    {
     "data": {
      "text/html": [
       "<div>\n",
       "<style scoped>\n",
       "    .dataframe tbody tr th:only-of-type {\n",
       "        vertical-align: middle;\n",
       "    }\n",
       "\n",
       "    .dataframe tbody tr th {\n",
       "        vertical-align: top;\n",
       "    }\n",
       "\n",
       "    .dataframe thead th {\n",
       "        text-align: right;\n",
       "    }\n",
       "</style>\n",
       "<table border=\"1\" class=\"dataframe\">\n",
       "  <thead>\n",
       "    <tr style=\"text-align: right;\">\n",
       "      <th></th>\n",
       "      <th>artist</th>\n",
       "      <th>song</th>\n",
       "      <th>text</th>\n",
       "      <th>feedback</th>\n",
       "      <th>combined_text</th>\n",
       "    </tr>\n",
       "  </thead>\n",
       "  <tbody>\n",
       "    <tr>\n",
       "      <th>0</th>\n",
       "      <td>Kenny Rogers</td>\n",
       "      <td>I Don't Wanna Know Why</td>\n",
       "      <td>i do n't wan na know whi i took your love as d...</td>\n",
       "      <td>-1</td>\n",
       "      <td>Kenny Rogers I Don't Wanna Know Why i do n't w...</td>\n",
       "    </tr>\n",
       "    <tr>\n",
       "      <th>1</th>\n",
       "      <td>Spandau Ballet</td>\n",
       "      <td>Code Of Love</td>\n",
       "      <td>he put so much into her life she took so much ...</td>\n",
       "      <td>-1</td>\n",
       "      <td>Spandau Ballet Code Of Love he put so much int...</td>\n",
       "    </tr>\n",
       "    <tr>\n",
       "      <th>2</th>\n",
       "      <td>Backstreet Boys</td>\n",
       "      <td>One Phone Call</td>\n",
       "      <td>hard to believ it it 's almost a year sinc i g...</td>\n",
       "      <td>1</td>\n",
       "      <td>Backstreet Boys One Phone Call hard to believ ...</td>\n",
       "    </tr>\n",
       "    <tr>\n",
       "      <th>3</th>\n",
       "      <td>Dolly Parton</td>\n",
       "      <td>9 To 5</td>\n",
       "      <td>tumbl out of bed and stumbl to the kitchen pou...</td>\n",
       "      <td>0</td>\n",
       "      <td>Dolly Parton 9 To 5 tumbl out of bed and stumb...</td>\n",
       "    </tr>\n",
       "    <tr>\n",
       "      <th>4</th>\n",
       "      <td>Radiohead</td>\n",
       "      <td>Talk Show Host</td>\n",
       "      <td>i want to i want to be someon els or i 'll exp...</td>\n",
       "      <td>0</td>\n",
       "      <td>Radiohead Talk Show Host i want to i want to b...</td>\n",
       "    </tr>\n",
       "  </tbody>\n",
       "</table>\n",
       "</div>"
      ],
      "text/plain": [
       "            artist                    song  \\\n",
       "0     Kenny Rogers  I Don't Wanna Know Why   \n",
       "1   Spandau Ballet            Code Of Love   \n",
       "2  Backstreet Boys          One Phone Call   \n",
       "3     Dolly Parton                  9 To 5   \n",
       "4        Radiohead          Talk Show Host   \n",
       "\n",
       "                                                text  feedback  \\\n",
       "0  i do n't wan na know whi i took your love as d...        -1   \n",
       "1  he put so much into her life she took so much ...        -1   \n",
       "2  hard to believ it it 's almost a year sinc i g...         1   \n",
       "3  tumbl out of bed and stumbl to the kitchen pou...         0   \n",
       "4  i want to i want to be someon els or i 'll exp...         0   \n",
       "\n",
       "                                       combined_text  \n",
       "0  Kenny Rogers I Don't Wanna Know Why i do n't w...  \n",
       "1  Spandau Ballet Code Of Love he put so much int...  \n",
       "2  Backstreet Boys One Phone Call hard to believ ...  \n",
       "3  Dolly Parton 9 To 5 tumbl out of bed and stumb...  \n",
       "4  Radiohead Talk Show Host i want to i want to b...  "
      ]
     },
     "execution_count": 60,
     "metadata": {},
     "output_type": "execute_result"
    }
   ],
   "source": [
    "df.head()"
   ]
  }
 ],
 "metadata": {
  "kernelspec": {
   "display_name": "Python 3 (ipykernel)",
   "language": "python",
   "name": "python3"
  },
  "language_info": {
   "codemirror_mode": {
    "name": "ipython",
    "version": 3
   },
   "file_extension": ".py",
   "mimetype": "text/x-python",
   "name": "python",
   "nbconvert_exporter": "python",
   "pygments_lexer": "ipython3",
   "version": "3.11.9"
  }
 },
 "nbformat": 4,
 "nbformat_minor": 5
}
